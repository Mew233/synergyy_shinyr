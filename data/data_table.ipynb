{
 "cells": [
  {
   "cell_type": "markdown",
   "id": "6d2f0cc7",
   "metadata": {},
   "source": [
    "This notebook is to create a databale for shiny r visualisation by transforming the outputs (aka. predicted probablity) from the deep learning models embededded in the synergyy python package.   \n",
    "\n",
    "To construct the data table, you need 1) the input \"raw synergy file\" from the python directory \"data/synergy data/{dataset}.csv\" 2) the output prediction file from \"results/predicits_{model}_{databse}.csv\"\""
   ]
  },
  {
   "cell_type": "code",
   "execution_count": 2,
   "id": "953da951",
   "metadata": {},
   "outputs": [],
   "source": [
    "import pandas as pd"
   ]
  },
  {
   "cell_type": "code",
   "execution_count": 11,
   "id": "65c58611",
   "metadata": {},
   "outputs": [],
   "source": [
    "def drugcomb(dc,predicts,model_name):\n",
    "    dc['index'] = dc.index\n",
    "    df = pd.merge(dc,predicts,on=['index'])\n",
    "    df = df[['drug_row','drug_col','compound0_x','compound0_y','DepMap_ID_x',\\\n",
    "             'tissue_name','synergy_loewe','actuals','predicts_deepdds_wang']]\n",
    "    df.columns = ['Drug1','Drug2','Drug1_ID','Drug2_ID','DepMap_ID','Tissue','Loewe score','Actuals','Proba']\n",
    "    df.to_csv('proba_%s_DrugComb v1.5.csv'%model_name)"
   ]
  },
  {
   "cell_type": "code",
   "execution_count": 12,
   "id": "e8efd0b2",
   "metadata": {},
   "outputs": [
    {
     "name": "stderr",
     "output_type": "stream",
     "text": [
      "/gpfs/ycga/project/christakis/cx79/conda_envs/meta/lib/python3.7/site-packages/IPython/core/interactiveshell.py:3186: DtypeWarning: Columns (26) have mixed types.Specify dtype option on import or set low_memory=False.\n",
      "  interactivity=interactivity, compiler=compiler, result=result)\n"
     ]
    }
   ],
   "source": [
    "dc = pd.read_csv('drugcomb_trueset_NoDup.csv')\n",
    "#predicts = pd.read_csv('predicts_deepsynergy_preuer_DrugComb.txt')\n",
    "#drugcomb(dc,predicts,\"Deepsynergy (Preuer et al., 2018)\")\n",
    "# predicts = pd.read_csv('predicts_matchmaker_brahim_DrugComb.txt')\n",
    "# drugcomb(dc,predicts,\"Matchmaker (Brahim et al., 2021)\")\n",
    "# predicts = pd.read_csv('predicts_multitaskdnn_kim_DrugComb.txt')\n",
    "# drugcomb(dc,predicts,\"Multitaskdnn (Kim et al., 2021))\")\n",
    "predicts = pd.read_csv('predicts_deepdds_wang_DrugComb.txt')\n",
    "drugcomb(dc,predicts,\"Deepdds (Wang et al., 2021)\")"
   ]
  },
  {
   "cell_type": "code",
   "execution_count": null,
   "id": "ecfee825",
   "metadata": {},
   "outputs": [],
   "source": []
  },
  {
   "cell_type": "code",
   "execution_count": null,
   "id": "5051b6e4",
   "metadata": {},
   "outputs": [],
   "source": []
  },
  {
   "cell_type": "code",
   "execution_count": null,
   "id": "0b82c32c",
   "metadata": {},
   "outputs": [],
   "source": [
    "def sanger(sanger,predicts,model_name):\n",
    "    sanger['index'] = sanger.index\n",
    "    df = pd.merge(sanger,predicts,on=['index'])\n",
    "    df = df[['drug_row','drug_col','compound0_x','compound0_y','DepMap_ID',\\\n",
    "             'Tissue','actuals','predicts_deepsynergy_preuer']]\n",
    "    df.columns = ['Drug1','Drug2','Drug1_ID','Drug2_ID','DepMap_ID','Tissue','Actuals','Proba']\n",
    "    df.to_csv('proba_%s_Sanger 2022.csv'%model_name)"
   ]
  },
  {
   "cell_type": "code",
   "execution_count": 2,
   "id": "1e655bd1",
   "metadata": {},
   "outputs": [],
   "source": [
    "sanger = pd.read_csv('drug_combinations_TGSA_Jaaks.csv')\n",
    "predicts = pd.read_csv('predicts_deepsynergy_preuer_Sanger2022.txt')\n",
    "sanger(sanger,predicts,\"Deepsynergy (Preuer et al., 2018)\")"
   ]
  },
  {
   "cell_type": "code",
   "execution_count": null,
   "id": "2b1e6eac",
   "metadata": {},
   "outputs": [],
   "source": []
  }
 ],
 "metadata": {
  "kernelspec": {
   "display_name": "Python 3 (ipykernel)",
   "language": "python",
   "name": "python3"
  },
  "language_info": {
   "codemirror_mode": {
    "name": "ipython",
    "version": 3
   },
   "file_extension": ".py",
   "mimetype": "text/x-python",
   "name": "python",
   "nbconvert_exporter": "python",
   "pygments_lexer": "ipython3",
   "version": "3.7.9"
  }
 },
 "nbformat": 4,
 "nbformat_minor": 5
}
